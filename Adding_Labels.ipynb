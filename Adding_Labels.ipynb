{
 "cells": [
  {
   "cell_type": "code",
   "execution_count": 4,
   "metadata": {},
   "outputs": [
    {
     "name": "stdout",
     "output_type": "stream",
     "text": [
      "       f_id                                 file_name  ret\n",
      "0        95  dba63ee5-6603-300e-8071-8536afcbc2de.csv  0.0\n",
      "1        95  0b8bfa51-cf28-35d0-94d2-7922f45120b2.csv  0.0\n",
      "2        95  d7a64eee-165e-3d39-be67-adc82050bde3.csv  0.0\n",
      "3        95  4da3314d-c5b0-3782-bdd6-27fb9e251261.csv  0.0\n",
      "4        95  7d58a65f-af5a-3433-bcbb-a342b9468b71.csv  0.0\n",
      "...     ...                                       ...  ...\n",
      "48333    11  d6e19de9-22a8-39e6-98c1-cc599c819a56.csv  1.0\n",
      "48334    11  83895667-dc4e-303a-90e7-7dfc0725f476.csv  1.0\n",
      "48335    11  a6ab9f83-4bea-323f-b08e-4a9fb4eab8d6.csv  1.0\n",
      "48336    11  a19af894-a9c8-3127-87e4-39567f0a9e0c.csv  1.0\n",
      "48337    11  861ce6ba-f676-3ea6-bfbb-16dfda24ac1a.csv  1.0\n",
      "\n",
      "[48338 rows x 3 columns]\n"
     ]
    }
   ],
   "source": [
    "import pandas as pd\n",
    "import numpy as np\n",
    "path = 'D:\\\\机器学习大作业\\\\train_labels.csv'\n",
    "with open(path)as file:\n",
    "    data = pd.read_csv(file)\n",
    "    print(data)"
   ]
  },
  {
   "cell_type": "code",
   "execution_count": 13,
   "metadata": {},
   "outputs": [
    {
     "name": "stdout",
     "output_type": "stream",
     "text": [
      "[[95 'dba63ee5-6603-300e-8071-8536afcbc2de.csv' 0.0]\n",
      " [95 '0b8bfa51-cf28-35d0-94d2-7922f45120b2.csv' 0.0]\n",
      " [95 'd7a64eee-165e-3d39-be67-adc82050bde3.csv' 0.0]\n",
      " ...\n",
      " [11 'a6ab9f83-4bea-323f-b08e-4a9fb4eab8d6.csv' 1.0]\n",
      " [11 'a19af894-a9c8-3127-87e4-39567f0a9e0c.csv' 1.0]\n",
      " [11 '861ce6ba-f676-3ea6-bfbb-16dfda24ac1a.csv' 1.0]]\n",
      "48338\n"
     ]
    }
   ],
   "source": [
    "data = np.array(data)\n",
    "print(data)"
   ]
  },
  {
   "cell_type": "code",
   "execution_count": 18,
   "metadata": {},
   "outputs": [],
   "source": [
    "# file_path = 'D:\\\\机器学习大作业\\\\0' + str(data[0][0]) + '\\\\0' + str(data[0][0]) + '\\\\' +data[0][1]\n",
    "# print(file_path)\n",
    "for i in range(15321, len(data)):\n",
    "    if(len(str(data[i][0])) == 2):\n",
    "        file_path = 'D:\\\\机器学习大作业\\\\0' + str(data[i][0]) + '\\\\0' + str(data[i][0]) + '\\\\' +data[i][1]\n",
    "    else:\n",
    "        file_path = 'D:\\\\机器学习大作业\\\\00' + str(data[i][0]) + '\\\\00' + str(data[i][0]) + '\\\\' +data[i][1]\n",
    "    ngData = pd.read_csv(file_path)\n",
    "    ngnp = np.array(ngData)\n",
    "    ngList = []\n",
    "    for j in range(len(ngnp)):\n",
    "        ngList.append(data[i][2])\n",
    "    ngData['ret']=ngList\n",
    "    ngData.to_csv(file_path, index=False)"
   ]
  }
 ],
 "metadata": {
  "kernelspec": {
   "display_name": "Python 3",
   "language": "python",
   "name": "python3"
  },
  "language_info": {
   "codemirror_mode": {
    "name": "ipython",
    "version": 3
   },
   "file_extension": ".py",
   "mimetype": "text/x-python",
   "name": "python",
   "nbconvert_exporter": "python",
   "pygments_lexer": "ipython3",
   "version": "3.7.6"
  }
 },
 "nbformat": 4,
 "nbformat_minor": 4
}
