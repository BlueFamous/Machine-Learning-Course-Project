{
 "cells": [
  {
   "cell_type": "code",
   "execution_count": 4,
   "metadata": {},
   "outputs": [
    {
     "name": "stdout",
     "output_type": "stream",
     "text": [
      "        15.45  172.01  0.35  0.28  0.31  11.28  16.24  14.36  15.51  -7.5  \\\n",
      "0       15.60   28.01  0.39  0.32  0.31  17.68  12.36  13.26  15.64  -9.1   \n",
      "1       14.77  272.02  0.28  0.27  0.28  14.18  16.10   8.94  14.77  -4.5   \n",
      "2       14.11   99.00  0.34  0.28  0.26  10.98  12.18  14.12  14.15   3.5   \n",
      "3       15.75   65.99  0.31  0.28  0.26  16.64  11.86  15.44  15.77  -1.6   \n",
      "4       14.82   83.99  0.29  0.27  0.29  13.90  12.06  13.66  14.72  -9.8   \n",
      "...       ...     ...   ...   ...   ...    ...    ...    ...    ...   ...   \n",
      "173890  10.17  165.49  0.32  0.28  0.28   5.60   8.28   7.44  10.17  -2.5   \n",
      "173891  10.68  307.44  0.32  0.31  0.27   7.38   8.32   6.62  10.76  -2.5   \n",
      "173892   9.89  196.92  0.42  0.32  0.32   4.60   8.56   6.64   9.90 -11.8   \n",
      "173893   9.91  348.52  0.28  0.26  0.28   5.98   7.48   5.16   9.90 -16.1   \n",
      "173894  10.59  234.58  0.27  0.29  0.27   6.60   8.56   6.76  10.61  -7.2   \n",
      "\n",
      "        ...  0.5  0.6.1  0.7  0.8  0.9  0.10  0.11  0.12  0.13  1.0  \n",
      "0       ...  0.0    0.0  0.0  0.0  0.0   0.0   0.0   0.0   0.0  1.0  \n",
      "1       ...  0.0    0.0  0.0  0.0  0.0   0.0   0.0   0.0   0.0  1.0  \n",
      "2       ...  0.0    0.0  0.0  0.0  0.0   0.0   0.0   0.0   0.0  1.0  \n",
      "3       ...  0.0    0.0  0.0  0.0  0.0   0.0   0.0   0.0   0.0  1.0  \n",
      "4       ...  0.0    0.0  0.0  0.0  0.0   0.0   0.0   0.0   0.0  1.0  \n",
      "...     ...  ...    ...  ...  ...  ...   ...   ...   ...   ...  ...  \n",
      "173890  ...  0.0    0.0  0.0  0.0  0.0   0.0   0.0   0.0   0.0  0.0  \n",
      "173891  ...  0.0    0.0  0.0  0.0  0.0   0.0   0.0   0.0   0.0  0.0  \n",
      "173892  ...  0.0    0.0  0.0  0.0  0.0   0.0   0.0   0.0   0.0  0.0  \n",
      "173893  ...  0.0    0.0  0.0  0.0  0.0   0.0   0.0   0.0   0.0  0.0  \n",
      "173894  ...  0.0    0.0  0.0  0.0  0.0   0.0   0.0   0.0   0.0  0.0  \n",
      "\n",
      "[173895 rows x 76 columns]\n"
     ]
    }
   ],
   "source": [
    "import pandas as pd\n",
    "import numpy as np\n",
    "from sklearn.tree import DecisionTreeClassifier\n",
    "from sklearn.model_selection import train_test_split\n",
    "from sklearn.neighbors import KNeighborsClassifier\n",
    "path = 'D:\\\\机器学习大作业\\\\整合\\\\012.csv'\n",
    "with open(path)as file:\n",
    "    data = pd.read_csv(file)\n",
    "    print(data)"
   ]
  },
  {
   "cell_type": "code",
   "execution_count": 5,
   "metadata": {},
   "outputs": [],
   "source": [
    "data = np.array(data)\n",
    "label = data[:, 75]\n",
    "data = data[:, :75]"
   ]
  },
  {
   "cell_type": "code",
   "execution_count": 7,
   "metadata": {},
   "outputs": [],
   "source": [
    "x_train,x_test,y_train,y_test=train_test_split(data, label)"
   ]
  },
  {
   "cell_type": "code",
   "execution_count": 8,
   "metadata": {},
   "outputs": [
    {
     "data": {
      "text/plain": [
       "0.99949395040714"
      ]
     },
     "execution_count": 8,
     "metadata": {},
     "output_type": "execute_result"
    }
   ],
   "source": [
    "tree = DecisionTreeClassifier()\n",
    "tree.fit(x_train, y_train)\n",
    "tree.score(x_test, y_test)"
   ]
  },
  {
   "cell_type": "code",
   "execution_count": 10,
   "metadata": {},
   "outputs": [
    {
     "data": {
      "text/plain": [
       "0.9664627133459079"
      ]
     },
     "execution_count": 10,
     "metadata": {},
     "output_type": "execute_result"
    }
   ],
   "source": [
    "knn = KNeighborsClassifier(6)\n",
    "knn.fit(x_train,y_train)\n",
    "knn.score(x_test,y_test)"
   ]
  },
  {
   "cell_type": "code",
   "execution_count": null,
   "metadata": {},
   "outputs": [],
   "source": []
  },
  {
   "cell_type": "code",
   "execution_count": null,
   "metadata": {},
   "outputs": [],
   "source": []
  }
 ],
 "metadata": {
  "kernelspec": {
   "display_name": "Python 3",
   "language": "python",
   "name": "python3"
  },
  "language_info": {
   "codemirror_mode": {
    "name": "ipython",
    "version": 3
   },
   "file_extension": ".py",
   "mimetype": "text/x-python",
   "name": "python",
   "nbconvert_exporter": "python",
   "pygments_lexer": "ipython3",
   "version": "3.7.6"
  }
 },
 "nbformat": 4,
 "nbformat_minor": 4
}
