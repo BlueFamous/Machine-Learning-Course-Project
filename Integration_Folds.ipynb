{
 "cells": [
  {
   "cell_type": "code",
   "execution_count": 1,
   "metadata": {},
   "outputs": [],
   "source": [
    "import glob\n",
    "import os\n",
    "import pandas as pd\n",
    "import numpy as np"
   ]
  },
  {
   "cell_type": "code",
   "execution_count": 2,
   "metadata": {},
   "outputs": [
    {
     "name": "stdout",
     "output_type": "stream",
     "text": [
      "[[95 'dba63ee5-6603-300e-8071-8536afcbc2de.csv' 0.0]\n",
      " [95 '0b8bfa51-cf28-35d0-94d2-7922f45120b2.csv' 0.0]\n",
      " [95 'd7a64eee-165e-3d39-be67-adc82050bde3.csv' 0.0]\n",
      " ...\n",
      " [11 'a6ab9f83-4bea-323f-b08e-4a9fb4eab8d6.csv' 1.0]\n",
      " [11 'a19af894-a9c8-3127-87e4-39567f0a9e0c.csv' 1.0]\n",
      " [11 '861ce6ba-f676-3ea6-bfbb-16dfda24ac1a.csv' 1.0]]\n"
     ]
    }
   ],
   "source": [
    "path = 'D:\\\\机器学习大作业\\\\数据\\\\train_labels.csv'\n",
    "with open(path)as file:\n",
    "    data = pd.read_csv(file)\n",
    "\n",
    "data = np.array(data)\n",
    "print(data)"
   ]
  },
  {
   "cell_type": "code",
   "execution_count": 7,
   "metadata": {},
   "outputs": [],
   "source": [
    "output1 = 'D:\\\\机器学习大作业\\\\012.csv'\n",
    "output2 = 'D:\\\\机器学习大作业\\\\012no.csv'\n",
    "output3 = 'D:\\\\机器学习大作业\\\\others.csv'\n",
    "count_1 = 0\n",
    "count_2 = 0\n",
    "count_3 = 0\n",
    "total = 0\n",
    "num = 1\n",
    "for i in range(len(data)):\n",
    "    if(data[i][0] == 12):\n",
    "        if(len(str(data[i][0])) == 2):\n",
    "            file_path = 'D:\\\\机器学习大作业\\\\new\\\\0' + str(data[i][0]) + '\\\\' +data[i][1]\n",
    "        else:\n",
    "            file_path = 'D:\\\\机器学习大作业\\\\new\\\\00' + str(data[i][0]) + '\\\\' +data[i][1]\n",
    "        \n",
    "        if(os.path.isfile(file_path)):\n",
    "            df = pd.read_csv(file_path)\n",
    "        else:\n",
    "            continue\n",
    "            \n",
    "        if(data[i][2] != data[i][2]):\n",
    "            if(count_2 == 0):\n",
    "                df = df.to_csv(output2, index=False, header=True, mode='a+')\n",
    "                count_2 += 1\n",
    "            else:\n",
    "                df = df.to_csv(output2, index=False, header=False, mode='a+')\n",
    "        else:\n",
    "            if(count_1 == 0):\n",
    "                df = df.to_csv(output1, index=False, header=True, mode='a+')\n",
    "                count_1 += 1\n",
    "            else:\n",
    "                df = df.to_csv(output1, index=False, header=False, mode='a+')\n",
    "    else:\n",
    "        if(len(str(data[i][0])) == 2):\n",
    "            file_path = 'D:\\\\机器学习大作业\\\\new\\\\0' + str(data[i][0]) + '\\\\' +data[i][1]\n",
    "        else:\n",
    "            file_path = 'D:\\\\机器学习大作业\\\\new\\\\00' + str(data[i][0]) + '\\\\' +data[i][1]\n",
    "        \n",
    "        if(os.path.isfile(file_path)):\n",
    "            df = pd.read_csv(file_path)\n",
    "        else:\n",
    "            continue\n",
    "        \n",
    "        df = pd.read_csv(file_path)\n",
    "        temp = np.array(df)\n",
    "        total += len(temp)\n",
    "        if(count_3 == 0):\n",
    "            df = df.to_csv(output3, index=False, header=True, mode='a+')\n",
    "            count_3 += 1\n",
    "        else:\n",
    "            df = df.to_csv(output3, index=False, header=False, mode='a+')\n",
    "        \n",
    "        if(total >= 1000000):\n",
    "            total = 0\n",
    "            count_3 = 0\n",
    "            if(num == 1):\n",
    "                output3 = output3.replace('others.csv', ('others' + str(num) + '.csv'))\n",
    "            else:\n",
    "                output3 = output3.replace(('others' + str(num - 1) + '.csv'), ('others' + str(num) + '.csv'))\n",
    "            num += 1"
   ]
  },
  {
   "cell_type": "code",
   "execution_count": 3,
   "metadata": {},
   "outputs": [
    {
     "name": "stdout",
     "output_type": "stream",
     "text": [
      "['D:\\\\机器学习大作业\\\\012.csv' 'D:\\\\机器学习大作业\\\\012no.csv'\n",
      " 'D:\\\\机器学习大作业\\\\012no_new.csv' 'D:\\\\机器学习大作业\\\\012_new.csv'\n",
      " 'D:\\\\机器学习大作业\\\\others.csv' 'D:\\\\机器学习大作业\\\\others1.csv'\n",
      " 'D:\\\\机器学习大作业\\\\others10.csv' 'D:\\\\机器学习大作业\\\\others10_new.csv'\n",
      " 'D:\\\\机器学习大作业\\\\others11.csv' 'D:\\\\机器学习大作业\\\\others11_new.csv'\n",
      " 'D:\\\\机器学习大作业\\\\others12.csv' 'D:\\\\机器学习大作业\\\\others12_new.csv'\n",
      " 'D:\\\\机器学习大作业\\\\others13.csv' 'D:\\\\机器学习大作业\\\\others13_new.csv'\n",
      " 'D:\\\\机器学习大作业\\\\others14.csv' 'D:\\\\机器学习大作业\\\\others14_new.csv'\n",
      " 'D:\\\\机器学习大作业\\\\others15.csv' 'D:\\\\机器学习大作业\\\\others15_new.csv'\n",
      " 'D:\\\\机器学习大作业\\\\others16.csv' 'D:\\\\机器学习大作业\\\\others16_new.csv'\n",
      " 'D:\\\\机器学习大作业\\\\others17.csv' 'D:\\\\机器学习大作业\\\\others17_new.csv'\n",
      " 'D:\\\\机器学习大作业\\\\others18.csv' 'D:\\\\机器学习大作业\\\\others18_new.csv'\n",
      " 'D:\\\\机器学习大作业\\\\others19.csv' 'D:\\\\机器学习大作业\\\\others19_new.csv'\n",
      " 'D:\\\\机器学习大作业\\\\others1_new.csv' 'D:\\\\机器学习大作业\\\\others2.csv'\n",
      " 'D:\\\\机器学习大作业\\\\others20.csv' 'D:\\\\机器学习大作业\\\\others20_new.csv'\n",
      " 'D:\\\\机器学习大作业\\\\others2_new.csv' 'D:\\\\机器学习大作业\\\\others3.csv'\n",
      " 'D:\\\\机器学习大作业\\\\others3_new.csv' 'D:\\\\机器学习大作业\\\\others4.csv'\n",
      " 'D:\\\\机器学习大作业\\\\others4_new.csv' 'D:\\\\机器学习大作业\\\\others5.csv'\n",
      " 'D:\\\\机器学习大作业\\\\others5_new.csv' 'D:\\\\机器学习大作业\\\\others6.csv'\n",
      " 'D:\\\\机器学习大作业\\\\others6_new.csv' 'D:\\\\机器学习大作业\\\\others7.csv'\n",
      " 'D:\\\\机器学习大作业\\\\others7_new.csv' 'D:\\\\机器学习大作业\\\\others8.csv'\n",
      " 'D:\\\\机器学习大作业\\\\others8_new.csv' 'D:\\\\机器学习大作业\\\\others9.csv'\n",
      " 'D:\\\\机器学习大作业\\\\others9_new.csv' 'D:\\\\机器学习大作业\\\\others_new.csv']\n"
     ]
    }
   ],
   "source": [
    "path = 'D:\\\\机器学习大作业'\n",
    "def list_dir(file_dir):\n",
    "    list_csv = []\n",
    "    dir_list = os.listdir(file_dir)\n",
    "    for cur_file in dir_list:\n",
    "        path = os.path.join(file_dir,cur_file)\n",
    "        #判断是文件夹还是文件\n",
    "        if os.path.isfile(path):\n",
    "            # print(\"{0} : is file!\".format(cur_file))\n",
    "            dir_files = os.path.join(file_dir, cur_file)\n",
    "        #判断是否存在.csv文件，如果存在则获取路径信息写入到list_csv列表中\n",
    "        if os.path.splitext(path)[1] == '.csv':\n",
    "            csv_file = os.path.join(file_dir, cur_file)\n",
    "            # print(os.path.join(file_dir, cur_file))\n",
    "            # print(csv_file)\n",
    "            list_csv.append(csv_file)\n",
    "        if os.path.isdir(path):\n",
    "            # print(\"{0} : is dir\".format(cur_file))\n",
    "            # print(os.path.join(file_dir, cur_file))\n",
    "            list_dir(path)\n",
    "    return list_csv\n",
    "\n",
    "list_csv = list_dir(path)\n",
    "list_csv = np.array(list_csv)\n",
    "print(list_csv)"
   ]
  },
  {
   "cell_type": "code",
   "execution_count": 4,
   "metadata": {},
   "outputs": [
    {
     "name": "stdout",
     "output_type": "stream",
     "text": [
      "['轮毂转速' '轮毂角度' '叶片平均角度' '变桨电机平均电流' '超速传感器转速检测值' '5秒偏航对风平均值' 'x方向振动值'\n",
      " 'y方向振动值' '液压制动压力' '机舱气象站风速' '风向绝对值' '大气压力' '无功功率控制状态' '变频器电网侧电流'\n",
      " '变频器电网侧电压' '变频器电网侧有功功率' '变频器电网侧无功功率' '变频器发电机侧功率' '发电机运行频率' '发电机电流'\n",
      " '发电机转矩' '变频器出入口温度差' '变频器入口压力' '发电机功率限幅值' '无功功率设定值' '额定的轮毂转速' '测风塔环境温度'\n",
      " '发电机定子平均温度' '发电机空气平均温度' '主轴承平均温度' '轮毂温度' '轮毂控制柜温度' '机舱温度' '机舱控制柜温度'\n",
      " '变频器INU温度' '变频器ISU温度' '变频器INU RMIO温度' '变桨电机平均功率估算' '风机当前状态值' '轮毂当前状态值'\n",
      " '偏航状态值' '偏航要求值' '叶片电池箱平均温度' '叶片变频器箱平均温度' '叶片超级电容平均电压' '驱动晶匣管平均温度'\n",
      " '驱动平均输出扭矩' 'ret']\n"
     ]
    }
   ],
   "source": [
    "df = pd.read_csv('D:\\\\机器学习大作业\\\\012.csv')\n",
    "feature = df.columns\n",
    "temp = np.array(feature)\n",
    "print(temp)"
   ]
  },
  {
   "cell_type": "code",
   "execution_count": 8,
   "metadata": {},
   "outputs": [],
   "source": [
    "del_col = np.array([8, 16, 18, 19, 25, 45, 46, 47])\n",
    "del_col = del_col - 1\n",
    "# print(del_col)\n",
    "\n",
    "for i in range(len(list_csv)):\n",
    "    file_path = list_csv[i].replace('.csv', '_new.csv')\n",
    "    \n",
    "    df = pd.read_csv(list_csv[i])\n",
    "    for j in range(len(del_col)):\n",
    "        df.drop(feature[del_col[j]], axis=1, inplace=True)\n",
    "    \n",
    "    df = df.to_csv(file_path, index=False, header=True)"
   ]
  },
  {
   "cell_type": "code",
   "execution_count": 11,
   "metadata": {},
   "outputs": [
    {
     "name": "stdout",
     "output_type": "stream",
     "text": [
      "y方向振动值\n",
      "变频器电网侧有功功率\n",
      "变频器发电机侧功率\n",
      "发电机运行频率\n",
      "无功功率设定值\n",
      "叶片超级电容平均电压\n",
      "驱动晶匣管平均温度\n",
      "驱动平均输出扭矩\n"
     ]
    }
   ],
   "source": [
    "del_col = np.array([8, 16, 18, 19, 25, 45, 46, 47])\n",
    "del_col = del_col - 1\n",
    "\n",
    "for i in range(len(del_col)):\n",
    "    print(temp[del_col[i]])"
   ]
  },
  {
   "cell_type": "code",
   "execution_count": null,
   "metadata": {},
   "outputs": [],
   "source": []
  }
 ],
 "metadata": {
  "kernelspec": {
   "display_name": "Python 3",
   "language": "python",
   "name": "python3"
  },
  "language_info": {
   "codemirror_mode": {
    "name": "ipython",
    "version": 3
   },
   "file_extension": ".py",
   "mimetype": "text/x-python",
   "name": "python",
   "nbconvert_exporter": "python",
   "pygments_lexer": "ipython3",
   "version": "3.7.6"
  }
 },
 "nbformat": 4,
 "nbformat_minor": 4
}
