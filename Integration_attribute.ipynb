{
 "cells": [
  {
   "cell_type": "code",
   "execution_count": 1,
   "metadata": {},
   "outputs": [],
   "source": [
    "import glob\n",
    "import os\n",
    "import pandas as pd\n",
    "import numpy as np"
   ]
  },
  {
   "cell_type": "code",
   "execution_count": 2,
   "metadata": {},
   "outputs": [
    {
     "name": "stdout",
     "output_type": "stream",
     "text": [
      "[[95 'dba63ee5-6603-300e-8071-8536afcbc2de.csv' 0.0]\n",
      " [95 '0b8bfa51-cf28-35d0-94d2-7922f45120b2.csv' 0.0]\n",
      " [95 'd7a64eee-165e-3d39-be67-adc82050bde3.csv' 0.0]\n",
      " ...\n",
      " [11 'a6ab9f83-4bea-323f-b08e-4a9fb4eab8d6.csv' 1.0]\n",
      " [11 'a19af894-a9c8-3127-87e4-39567f0a9e0c.csv' 1.0]\n",
      " [11 '861ce6ba-f676-3ea6-bfbb-16dfda24ac1a.csv' 1.0]]\n"
     ]
    }
   ],
   "source": [
    "path = 'D:\\\\机器学习大作业\\\\数据\\\\train_labels.csv'\n",
    "with open(path)as file:\n",
    "    data = pd.read_csv(file)\n",
    "\n",
    "data = np.array(data)\n",
    "print(data)"
   ]
  },
  {
   "cell_type": "code",
   "execution_count": 3,
   "metadata": {},
   "outputs": [],
   "source": [
    "file_path = 'D:\\\\机器学习大作业\\\\数据\\\\0' + str(data[0][0]) + '\\\\0' + str(data[0][0]) + '\\\\' +data[0][1]\n",
    "df = pd.read_csv(file_path)\n",
    "feature = df.columns\n",
    "feature = np.array(feature)\n",
    "feature[2] = '叶片平均角度'\n",
    "feature[5] = '变桨电机平均电流'\n",
    "feature[25] = '变频器出入口温度差'\n",
    "feature[26] = '变频器出入口压力差'\n",
    "feature[33] = '发电机定子平均温度'\n",
    "feature[39] = '发电机空气平均温度'\n",
    "feature[41] = '主轴承平均温度'\n",
    "feature[50] = '变桨电机平均功率估算'\n",
    "feature[57] = '叶片电池箱平均温度'\n",
    "feature[60] = '叶片变桨电机平均温度'\n",
    "feature[63] = '叶片变频器箱平均温度'\n",
    "feature[66] = '叶片超级电容平均电压'\n",
    "feature[69] = '驱动晶匣管平均温度'\n",
    "feature[72] = '驱动平均输出扭矩'"
   ]
  },
  {
   "cell_type": "code",
   "execution_count": 5,
   "metadata": {},
   "outputs": [],
   "source": [
    "to_delete = []\n",
    "del_col = [3, 4, 6, 7, 26, 28, 34, 35, 36, 37, 38, 40, 42, 51, 52, 58, 59, 60, 61, 62, 64, 65, 67, 68, 70, 71, 73, 74]\n",
    "\n",
    "for i in range(len(data)):\n",
    "    if(len(str(data[i][0])) == 2):\n",
    "        file_path = 'D:\\\\机器学习大作业\\\\数据\\\\0' + str(data[i][0]) + '\\\\0' + str(data[i][0]) + '\\\\' +data[i][1]\n",
    "    else:\n",
    "        file_path = 'D:\\\\机器学习大作业\\\\数据\\\\00' + str(data[i][0]) + '\\\\00' + str(data[i][0]) + '\\\\' +data[i][1]\n",
    "    \n",
    "    df = pd.read_csv(file_path)\n",
    "    temp = np.array(df)\n",
    "    \n",
    "    for j in range(len(temp)):\n",
    "        for k in range(len(temp[0]) - 1):\n",
    "            if(temp[j][k] != 0):\n",
    "                break\n",
    "            if(temp[j][k] == 0 and k == len(temp[0]) - 2):\n",
    "                to_delete.append(j)\n",
    "        temp[j][2] = (temp[j][2] + temp[j][3] + temp[j][4]) / 3\n",
    "        temp[j][5] = (temp[j][5] + temp[j][6] + temp[j][7]) / 3\n",
    "        temp[j][25] = temp[j][26] - temp[j][25]\n",
    "        temp[j][27] = temp[j][28] - temp[j][27]\n",
    "        temp[j][33] = (temp[j][33] + temp[j][34] + temp[j][35] + temp[j][36] + temp[j][37] + temp[j][38]) / 6\n",
    "        temp[j][39] = (temp[j][39] + temp[j][40]) / 2\n",
    "        temp[j][41] = (temp[j][41] + temp[j][42]) / 2\n",
    "        temp[j][50] = (temp[j][50] + temp[j][51] + temp[j][52]) / 3\n",
    "        temp[j][57] = (temp[j][57] + temp[j][58] + temp[j][59]) / 3\n",
    "        temp[j][60] = (temp[j][60] + temp[j][61] + temp[j][62]) / 3\n",
    "        temp[j][63] = (temp[j][63] + temp[j][64] + temp[j][65]) / 3\n",
    "        temp[j][66] = (temp[j][66] + temp[j][67] + temp[j][68]) / 3\n",
    "        temp[j][69] = (temp[j][69] + temp[j][70] + temp[j][71]) / 3\n",
    "        temp[j][72] = (temp[j][72] + temp[j][73] + temp[j][74]) / 3\n",
    "    \n",
    "    if(len(to_delete) == len(temp)):\n",
    "        to_delete = []\n",
    "        del_col = [3, 4, 6, 7, 26, 28, 34, 35, 36, 37, 38, 40, 42, 51, 52, 58, 59, 60, 61, 62, 64, 65, 67, 68, 70, 71, 73, 74]\n",
    "        continue\n",
    "    \n",
    "    temp = np.delete(temp, to_delete, axis = 0)\n",
    "    \n",
    "    temp = pd.DataFrame(temp)\n",
    "    temp.columns = feature\n",
    "    \n",
    "    for j in range(len(del_col)):\n",
    "        temp.drop(feature[del_col[j]], axis=1, inplace=True)\n",
    "    \n",
    "    if(len(str(data[i][0])) == 2):\n",
    "        out_path = 'D:\\\\机器学习大作业\\\\new\\\\0' + str(data[i][0]) + '\\\\' +data[i][1]\n",
    "    else:\n",
    "        out_path = 'D:\\\\机器学习大作业\\\\new\\\\00' + str(data[i][0]) + '\\\\' +data[i][1]\n",
    "    temp = temp.to_csv(out_path, index = False, header = True)\n",
    "    \n",
    "    to_delete = []\n",
    "    del_col = [3, 4, 6, 7, 26, 28, 34, 35, 36, 37, 38, 40, 42, 51, 52, 58, 59, 60, 61, 62, 64, 65, 67, 68, 70, 71, 73, 74]"
   ]
  },
  {
   "cell_type": "code",
   "execution_count": 65,
   "metadata": {},
   "outputs": [
    {
     "name": "stdout",
     "output_type": "stream",
     "text": [
      "42901\n",
      "[15 '573bd5b4-9fbc-326f-a34e-d42fe71b6bcb.csv' 0.0]\n",
      "48338\n"
     ]
    }
   ],
   "source": [
    "print(i)\n",
    "print(data[i])\n",
    "print(len(data))"
   ]
  },
  {
   "cell_type": "code",
   "execution_count": 56,
   "metadata": {},
   "outputs": [
    {
     "name": "stdout",
     "output_type": "stream",
     "text": [
      "['Unnamed: 0', '轮毂转速', '叶片1角度', '叶片2角度', '无功功率控制状态', '主轴承温度1', '轮毂温度', '轮毂控制柜温度', 'ret']\n"
     ]
    }
   ],
   "source": [
    "(2,3,4ave)(25,26,minus)(27,28,mi) quanjianyi(34,35,36,37,38,39ave)(40,41ave)(42,43ave)(51,52,53,ave)(58,59,60ave)\n",
    "(61,62,63ave)(64,65,66ave)(67,68,69ave)(70,71,72ave)(73,74,75,ave)"
   ]
  },
  {
   "cell_type": "code",
   "execution_count": 13,
   "metadata": {},
   "outputs": [
    {
     "name": "stdout",
     "output_type": "stream",
     "text": [
      "[[2]]\n"
     ]
    }
   ],
   "source": [
    "arr = np.array([[1], [2], [3]])\n",
    "arr = np.delete(arr, [2, 0], axis = 0)\n",
    "print(arr)"
   ]
  },
  {
   "cell_type": "code",
   "execution_count": null,
   "metadata": {},
   "outputs": [],
   "source": []
  }
 ],
 "metadata": {
  "kernelspec": {
   "display_name": "Python 3",
   "language": "python",
   "name": "python3"
  },
  "language_info": {
   "codemirror_mode": {
    "name": "ipython",
    "version": 3
   },
   "file_extension": ".py",
   "mimetype": "text/x-python",
   "name": "python",
   "nbconvert_exporter": "python",
   "pygments_lexer": "ipython3",
   "version": "3.7.6"
  }
 },
 "nbformat": 4,
 "nbformat_minor": 4
}
